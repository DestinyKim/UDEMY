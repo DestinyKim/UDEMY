{
 "cells": [
  {
   "cell_type": "markdown",
   "id": "24d767a9",
   "metadata": {},
   "source": [
    "<img src=\"https://imgur.com/pAyny7n.jpg\">"
   ]
  },
  {
   "cell_type": "markdown",
   "id": "770e38e2",
   "metadata": {},
   "source": [
    "* Pandas 기초 – 기초부터 전문가 수준까지(파트 1)\n",
    "\n",
    "* 전반적인 Pandas 워크플로: 머신 러닝을 위한 데이터 임포트, 정제, 병합, 집계, 준비(파트 2)\n",
    "\n",
    "* 데이터 과학 채용/평가 센터에서 자주 사용되는 종합 프로젝트 과제 2개: 나의 실력을 시험해 보세요!(파트 3)\n",
    "\n",
    "* 응용 1: Pandas를 사용한 금융, 투자 및 기타 시계열 데이터 분석(파트 4)\n",
    "\n",
    "* 응용 2: Pandas와 사이킷런을 사용한 머신 러닝(파트 5)"
   ]
  }
 ],
 "metadata": {
  "kernelspec": {
   "display_name": "Python 3 (ipykernel)",
   "language": "python",
   "name": "python3"
  },
  "language_info": {
   "codemirror_mode": {
    "name": "ipython",
    "version": 3
   },
   "file_extension": ".py",
   "mimetype": "text/x-python",
   "name": "python",
   "nbconvert_exporter": "python",
   "pygments_lexer": "ipython3",
   "version": "3.9.7"
  },
  "toc": {
   "base_numbering": 1,
   "nav_menu": {},
   "number_sections": true,
   "sideBar": true,
   "skip_h1_title": false,
   "title_cell": "Table of Contents",
   "title_sidebar": "Contents",
   "toc_cell": false,
   "toc_position": {},
   "toc_section_display": true,
   "toc_window_display": false
  },
  "varInspector": {
   "cols": {
    "lenName": 16,
    "lenType": 16,
    "lenVar": 40
   },
   "kernels_config": {
    "python": {
     "delete_cmd_postfix": "",
     "delete_cmd_prefix": "del ",
     "library": "var_list.py",
     "varRefreshCmd": "print(var_dic_list())"
    },
    "r": {
     "delete_cmd_postfix": ") ",
     "delete_cmd_prefix": "rm(",
     "library": "var_list.r",
     "varRefreshCmd": "cat(var_dic_list()) "
    }
   },
   "types_to_exclude": [
    "module",
    "function",
    "builtin_function_or_method",
    "instance",
    "_Feature"
   ],
   "window_display": false
  }
 },
 "nbformat": 4,
 "nbformat_minor": 5
}
