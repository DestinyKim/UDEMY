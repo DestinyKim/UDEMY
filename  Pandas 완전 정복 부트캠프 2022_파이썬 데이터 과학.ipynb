{
 "cells": [
  {
   "cell_type": "markdown",
   "id": "cccc0cff",
   "metadata": {},
   "source": [
    "<img src = \"https://imgur.com/wjXbD0g.jpg\">"
   ]
  },
  {
   "cell_type": "markdown",
   "id": "24d767a9",
   "metadata": {},
   "source": [
    "<img src=\"https://imgur.com/pAyny7n.jpg\">"
   ]
  },
  {
   "cell_type": "markdown",
   "id": "770e38e2",
   "metadata": {},
   "source": [
    "## 학스\n",
    "* 데이터 처리 및 데이터 분석 기술을 놀라운 수준으로 향상\n",
    "* 실제 데이터셋을 사용하여 모든 관련 Pandas 기법 및 워크플로 학습 및 실습\n",
    "* 지저분한 데이터 임포트, 정제, 병합 및 머신 러닝용 데이터 준비\n",
    "* Pandas, Scikit-Learn, seaborn을 사용한 머신 러닝 프로젝트 완벽 마스터\n",
    "* Pandas, matplotlib, seaborn을 통한 데이터 분석, 시각화, 이해\n",
    "* 퀴즈와 150개 이상의 연습 과제, 종합 프로젝트를 통한 Pandas 기술 연습 및 마스터\n",
    "* 인터넷에서 임포트한 금융/주식 데이터를 Pandas를 사용하여 분석\n",
    "* 금융 데이터 분석에 있어 가장 중요한 Pandas 워크플로 학습 및 마스터\n",
    "* Pandas와 Numpy 코딩 기초 학습(부록)\n",
    "* SciPy를 활용한 중요한 통계 개념 학습 및 마스터"
   ]
  }
 ],
 "metadata": {
  "kernelspec": {
   "display_name": "Python 3 (ipykernel)",
   "language": "python",
   "name": "python3"
  },
  "language_info": {
   "codemirror_mode": {
    "name": "ipython",
    "version": 3
   },
   "file_extension": ".py",
   "mimetype": "text/x-python",
   "name": "python",
   "nbconvert_exporter": "python",
   "pygments_lexer": "ipython3",
   "version": "3.9.7"
  },
  "toc": {
   "base_numbering": 1,
   "nav_menu": {},
   "number_sections": true,
   "sideBar": true,
   "skip_h1_title": false,
   "title_cell": "Table of Contents",
   "title_sidebar": "Contents",
   "toc_cell": false,
   "toc_position": {},
   "toc_section_display": true,
   "toc_window_display": false
  },
  "varInspector": {
   "cols": {
    "lenName": 16,
    "lenType": 16,
    "lenVar": 40
   },
   "kernels_config": {
    "python": {
     "delete_cmd_postfix": "",
     "delete_cmd_prefix": "del ",
     "library": "var_list.py",
     "varRefreshCmd": "print(var_dic_list())"
    },
    "r": {
     "delete_cmd_postfix": ") ",
     "delete_cmd_prefix": "rm(",
     "library": "var_list.r",
     "varRefreshCmd": "cat(var_dic_list()) "
    }
   },
   "types_to_exclude": [
    "module",
    "function",
    "builtin_function_or_method",
    "instance",
    "_Feature"
   ],
   "window_display": false
  }
 },
 "nbformat": 4,
 "nbformat_minor": 5
}
